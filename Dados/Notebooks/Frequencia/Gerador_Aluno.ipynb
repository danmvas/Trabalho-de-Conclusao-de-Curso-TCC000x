{
 "cells": [
  {
   "cell_type": "code",
   "execution_count": 1,
   "metadata": {},
   "outputs": [],
   "source": [
    "import requests\n",
    "import datetime\n",
    "import random\n",
    "import pandas as pd"
   ]
  },
  {
   "cell_type": "code",
   "execution_count": 2,
   "metadata": {},
   "outputs": [],
   "source": [
    "df = pd.read_excel('D:/Documentos/Code/UDESC/Trabalho-de-Conclusao-de-Curso-TCC000x/Dados/Databases/Geografia/municipios.xlsx')\n",
    "\n",
    "municipios = df['Código Município Completo']\n",
    "municipios = municipios.values"
   ]
  },
  {
   "cell_type": "code",
   "execution_count": 3,
   "metadata": {},
   "outputs": [
    {
     "name": "stdout",
     "output_type": "stream",
     "text": [
      "['NO_ALUNO' => 'Anthony Goulão Lins', 'TP_GENERO' => 2, 'TP_ETNIA' => 2, 'DT_NASCIMENTO' => '2012-03-06', 'NU_NIS' => '37975780694', 'NU_CPF' => '67762648659', 'CO_INEP' => '10715097', 'CO_MUNICIPIO_RESIDENCIA' => 2413003, 'CO_MUNICIPIO_NASCIMENTO' => 2413001, 'NO_PAI' => 'Maura Goulão Lins', 'NO_MAE' => 'Cataleya Goulão Lins', 'NU_NIS_RESPONSAVEL' => '84637963075', 'NU_CPF_RESPONSAVEL' => '98202976382', 'TP_FAMILIA_INDIGENA' => 1, 'TP_FAMILIA_QUILOMBOLA' => 1]\n",
      "['NO_ALUNO' => 'Lunna Ourique Condorcet', 'TP_GENERO' => 2, 'TP_ETNIA' => 0, 'DT_NASCIMENTO' => '2009-10-12', 'NU_NIS' => '84417999973', 'NU_CPF' => '2475819458', 'CO_INEP' => '83190214', 'CO_MUNICIPIO_RESIDENCIA' => 4321006, 'CO_MUNICIPIO_NASCIMENTO' => 4321004, 'NO_PAI' => 'Noa Ourique Condorcet', 'NO_MAE' => 'Ohana Ourique Condorcet', 'NU_NIS_RESPONSAVEL' => '305560864', 'NU_CPF_RESPONSAVEL' => '76626130330', 'TP_FAMILIA_INDIGENA' => 0, 'TP_FAMILIA_QUILOMBOLA' => 0]\n",
      "['NO_ALUNO' => 'Dália Medeiros Rebimbas', 'TP_GENERO' => 3, 'TP_ETNIA' => 2, 'DT_NASCIMENTO' => '2012-03-24', 'NU_NIS' => '86164083579', 'NU_CPF' => '42809473661', 'CO_INEP' => '78130191', 'CO_MUNICIPIO_RESIDENCIA' => 2919801, 'CO_MUNICIPIO_NASCIMENTO' => 2919802, 'NO_PAI' => 'Brian Medeiros Rebimbas', 'NO_MAE' => 'Raphaël Medeiros Rebimbas', 'NU_NIS_RESPONSAVEL' => '24817203288', 'NU_CPF_RESPONSAVEL' => '63813911278', 'TP_FAMILIA_INDIGENA' => 0, 'TP_FAMILIA_QUILOMBOLA' => 1]\n",
      "['NO_ALUNO' => 'Abílio Pequeno Vilarinho', 'TP_GENERO' => 2, 'TP_ETNIA' => 1, 'DT_NASCIMENTO' => '2005-01-18', 'NU_NIS' => '22294402092', 'NU_CPF' => '20493315128', 'CO_INEP' => '83616471', 'CO_MUNICIPIO_RESIDENCIA' => 2409803, 'CO_MUNICIPIO_NASCIMENTO' => 2409802, 'NO_PAI' => 'Eva Pequeno Vilarinho', 'NO_MAE' => 'Luciana Pequeno Vilarinho', 'NU_NIS_RESPONSAVEL' => '69475191576', 'NU_CPF_RESPONSAVEL' => '96461761631', 'TP_FAMILIA_INDIGENA' => 1, 'TP_FAMILIA_QUILOMBOLA' => 1]\n",
      "['NO_ALUNO' => 'Poliana Murteira Lousã', 'TP_GENERO' => 1, 'TP_ETNIA' => 0, 'DT_NASCIMENTO' => '2009-01-04', 'NU_NIS' => '33026192526', 'NU_CPF' => '32145350938', 'CO_INEP' => '58644662', 'CO_MUNICIPIO_RESIDENCIA' => 4103800, 'CO_MUNICIPIO_NASCIMENTO' => 4103800, 'NO_PAI' => 'Ricardo Murteira Lousã', 'NO_MAE' => 'Zé Murteira Lousã', 'NU_NIS_RESPONSAVEL' => '11761067773', 'NU_CPF_RESPONSAVEL' => '27486558467', 'TP_FAMILIA_INDIGENA' => 1, 'TP_FAMILIA_QUILOMBOLA' => 1]\n",
      "['NO_ALUNO' => 'Maxim Vilela Bouça', 'TP_GENERO' => 3, 'TP_ETNIA' => 3, 'DT_NASCIMENTO' => '2010-09-29', 'NU_NIS' => '51747899270', 'NU_CPF' => '46333219306', 'CO_INEP' => '61884628', 'CO_MUNICIPIO_RESIDENCIA' => 2929305, 'CO_MUNICIPIO_NASCIMENTO' => 2929306, 'NO_PAI' => 'Aicha Vilela Bouça', 'NO_MAE' => 'Alma Vilela Bouça', 'NU_NIS_RESPONSAVEL' => '47425761146', 'NU_CPF_RESPONSAVEL' => '30493828009', 'TP_FAMILIA_INDIGENA' => 0, 'TP_FAMILIA_QUILOMBOLA' => 1]\n",
      "['NO_ALUNO' => 'Américo Paredes Fitas', 'TP_GENERO' => 2, 'TP_ETNIA' => 2, 'DT_NASCIMENTO' => '2017-01-07', 'NU_NIS' => '48201365132', 'NU_CPF' => '11155713498', 'CO_INEP' => '88494893', 'CO_MUNICIPIO_RESIDENCIA' => 5219753, 'CO_MUNICIPIO_NASCIMENTO' => 5219752, 'NO_PAI' => 'Kelson Paredes Fitas', 'NO_MAE' => 'Laysla Paredes Fitas', 'NU_NIS_RESPONSAVEL' => '45865761293', 'NU_CPF_RESPONSAVEL' => '1500539206', 'TP_FAMILIA_INDIGENA' => 1, 'TP_FAMILIA_QUILOMBOLA' => 0]\n",
      "['NO_ALUNO' => 'Louisa Alvelos Olaio', 'TP_GENERO' => 2, 'TP_ETNIA' => 1, 'DT_NASCIMENTO' => '2013-04-25', 'NU_NIS' => '59466248676', 'NU_CPF' => '58372999396', 'CO_INEP' => '59981291', 'CO_MUNICIPIO_RESIDENCIA' => 5107065, 'CO_MUNICIPIO_NASCIMENTO' => 5107064, 'NO_PAI' => 'Dennis Alvelos Olaio', 'NO_MAE' => 'Édi Alvelos Olaio', 'NU_NIS_RESPONSAVEL' => '82516268218', 'NU_CPF_RESPONSAVEL' => '96783640419', 'TP_FAMILIA_INDIGENA' => 0, 'TP_FAMILIA_QUILOMBOLA' => 0]\n",
      "['NO_ALUNO' => 'Santhiago Salvado Regalado', 'TP_GENERO' => 2, 'TP_ETNIA' => 0, 'DT_NASCIMENTO' => '2012-08-06', 'NU_NIS' => '48748093813', 'NU_CPF' => '96140322802', 'CO_INEP' => '16428823', 'CO_MUNICIPIO_RESIDENCIA' => 1600709, 'CO_MUNICIPIO_NASCIMENTO' => 1600708, 'NO_PAI' => 'Mouhamed Salvado Regalado', 'NO_MAE' => 'Ilídio Salvado Regalado', 'NU_NIS_RESPONSAVEL' => '42357157423', 'NU_CPF_RESPONSAVEL' => '77984636311', 'TP_FAMILIA_INDIGENA' => 0, 'TP_FAMILIA_QUILOMBOLA' => 1]\n",
      "['NO_ALUNO' => 'Lea Galvão Ribas', 'TP_GENERO' => 0, 'TP_ETNIA' => 1, 'DT_NASCIMENTO' => '2008-11-09', 'NU_NIS' => '37758460650', 'NU_CPF' => '36515484053', 'CO_INEP' => '11581153', 'CO_MUNICIPIO_RESIDENCIA' => 1504752, 'CO_MUNICIPIO_NASCIMENTO' => 1504750, 'NO_PAI' => 'Abel Galvão Ribas', 'NO_MAE' => 'Anair Galvão Ribas', 'NU_NIS_RESPONSAVEL' => '21256707272', 'NU_CPF_RESPONSAVEL' => '88558490883', 'TP_FAMILIA_INDIGENA' => 1, 'TP_FAMILIA_QUILOMBOLA' => 0]\n",
      "['NO_ALUNO' => 'Hossana Bezerra Barreira', 'TP_GENERO' => 3, 'TP_ETNIA' => 3, 'DT_NASCIMENTO' => '2010-02-11', 'NU_NIS' => '66926393458', 'NU_CPF' => '47257037636', 'CO_INEP' => '98470379', 'CO_MUNICIPIO_RESIDENCIA' => 3551504, 'CO_MUNICIPIO_NASCIMENTO' => 3551504, 'NO_PAI' => 'Amaro Bezerra Barreira', 'NO_MAE' => 'Luzia Bezerra Barreira', 'NU_NIS_RESPONSAVEL' => '36375007189', 'NU_CPF_RESPONSAVEL' => '62865213156', 'TP_FAMILIA_INDIGENA' => 1, 'TP_FAMILIA_QUILOMBOLA' => 1]\n",
      "['NO_ALUNO' => 'Óscar Marins Botelho', 'TP_GENERO' => 1, 'TP_ETNIA' => 3, 'DT_NASCIMENTO' => '2011-08-29', 'NU_NIS' => '50949497263', 'NU_CPF' => '41153680454', 'CO_INEP' => '55699676', 'CO_MUNICIPIO_RESIDENCIA' => 4201802, 'CO_MUNICIPIO_NASCIMENTO' => 4201801, 'NO_PAI' => 'Leonor Marins Botelho', 'NO_MAE' => 'Mellanie Marins Botelho', 'NU_NIS_RESPONSAVEL' => '95814603710', 'NU_CPF_RESPONSAVEL' => '50857947170', 'TP_FAMILIA_INDIGENA' => 0, 'TP_FAMILIA_QUILOMBOLA' => 0]\n",
      "['NO_ALUNO' => 'Elizabeth Neres Gabeira', 'TP_GENERO' => 0, 'TP_ETNIA' => 0, 'DT_NASCIMENTO' => '2015-01-22', 'NU_NIS' => '33446636787', 'NU_CPF' => '5197125793', 'CO_INEP' => '55758249', 'CO_MUNICIPIO_RESIDENCIA' => 3145455, 'CO_MUNICIPIO_NASCIMENTO' => 3145456, 'NO_PAI' => 'Emilia Neres Gabeira', 'NO_MAE' => 'Giovana Neres Gabeira', 'NU_NIS_RESPONSAVEL' => '44329137962', 'NU_CPF_RESPONSAVEL' => '40852439181', 'TP_FAMILIA_INDIGENA' => 1, 'TP_FAMILIA_QUILOMBOLA' => 0]\n",
      "['NO_ALUNO' => 'Eleonor Sardo Monforte', 'TP_GENERO' => 2, 'TP_ETNIA' => 3, 'DT_NASCIMENTO' => '2011-09-09', 'NU_NIS' => '18814202260', 'NU_CPF' => '10320598669', 'CO_INEP' => '27677042', 'CO_MUNICIPIO_RESIDENCIA' => 3130556, 'CO_MUNICIPIO_NASCIMENTO' => 3130557, 'NO_PAI' => 'Maya Sardo Monforte', 'NO_MAE' => 'Carolina Sardo Monforte', 'NU_NIS_RESPONSAVEL' => '92777776269', 'NU_CPF_RESPONSAVEL' => '74264173977', 'TP_FAMILIA_INDIGENA' => 1, 'TP_FAMILIA_QUILOMBOLA' => 0]\n",
      "['NO_ALUNO' => 'Roberta Remígio Barra', 'TP_GENERO' => 1, 'TP_ETNIA' => 0, 'DT_NASCIMENTO' => '2009-07-25', 'NU_NIS' => '65438610231', 'NU_CPF' => '89608805738', 'CO_INEP' => '53759295', 'CO_MUNICIPIO_RESIDENCIA' => 4205209, 'CO_MUNICIPIO_NASCIMENTO' => 4205209, 'NO_PAI' => 'Samaritana Remígio Barra', 'NO_MAE' => 'Joel Remígio Barra', 'NU_NIS_RESPONSAVEL' => '86437288445', 'NU_CPF_RESPONSAVEL' => '6315906159', 'TP_FAMILIA_INDIGENA' => 1, 'TP_FAMILIA_QUILOMBOLA' => 0]\n",
      "['NO_ALUNO' => 'Mizael Lampreia Robalinho', 'TP_GENERO' => 1, 'TP_ETNIA' => 1, 'DT_NASCIMENTO' => '2006-12-23', 'NU_NIS' => '48887550100', 'NU_CPF' => '11749454709', 'CO_INEP' => '40245160', 'CO_MUNICIPIO_RESIDENCIA' => 4305132, 'CO_MUNICIPIO_NASCIMENTO' => 4305133, 'NO_PAI' => 'Nalini Lampreia Robalinho', 'NO_MAE' => 'Nadia Lampreia Robalinho', 'NU_NIS_RESPONSAVEL' => '28129096927', 'NU_CPF_RESPONSAVEL' => '36268749703', 'TP_FAMILIA_INDIGENA' => 0, 'TP_FAMILIA_QUILOMBOLA' => 1]\n",
      "['NO_ALUNO' => 'Suri Landim Ornelas', 'TP_GENERO' => 0, 'TP_ETNIA' => 3, 'DT_NASCIMENTO' => '2007-12-10', 'NU_NIS' => '27087036576', 'NU_CPF' => '98282565391', 'CO_INEP' => '69570343', 'CO_MUNICIPIO_RESIDENCIA' => 4110656, 'CO_MUNICIPIO_NASCIMENTO' => 4110656, 'NO_PAI' => 'Flora Landim Ornelas', 'NO_MAE' => 'Lucca Landim Ornelas', 'NU_NIS_RESPONSAVEL' => '88937536593', 'NU_CPF_RESPONSAVEL' => '3332937812', 'TP_FAMILIA_INDIGENA' => 1, 'TP_FAMILIA_QUILOMBOLA' => 1]\n",
      "['NO_ALUNO' => 'Madalena Camilo Penha', 'TP_GENERO' => 0, 'TP_ETNIA' => 1, 'DT_NASCIMENTO' => '2006-09-30', 'NU_NIS' => '36708951947', 'NU_CPF' => '50271611978', 'CO_INEP' => '64555204', 'CO_MUNICIPIO_RESIDENCIA' => 1715754, 'CO_MUNICIPIO_NASCIMENTO' => 1715754, 'NO_PAI' => 'Louise Camilo Penha', 'NO_MAE' => 'Dinis Camilo Penha', 'NU_NIS_RESPONSAVEL' => '75222349745', 'NU_CPF_RESPONSAVEL' => '45201911269', 'TP_FAMILIA_INDIGENA' => 1, 'TP_FAMILIA_QUILOMBOLA' => 0]\n",
      "['NO_ALUNO' => 'Muhammad Peixoto Regalado', 'TP_GENERO' => 2, 'TP_ETNIA' => 0, 'DT_NASCIMENTO' => '2009-01-23', 'NU_NIS' => '15039728723', 'NU_CPF' => '42705857804', 'CO_INEP' => '92729367', 'CO_MUNICIPIO_RESIDENCIA' => 2514503, 'CO_MUNICIPIO_NASCIMENTO' => 2514504, 'NO_PAI' => 'Absalão Peixoto Regalado', 'NO_MAE' => 'Aurora Peixoto Regalado', 'NU_NIS_RESPONSAVEL' => '55049311959', 'NU_CPF_RESPONSAVEL' => '39564031900', 'TP_FAMILIA_INDIGENA' => 1, 'TP_FAMILIA_QUILOMBOLA' => 1]\n",
      "['NO_ALUNO' => 'Keyla Garcia Queiroga', 'TP_GENERO' => 0, 'TP_ETNIA' => 2, 'DT_NASCIMENTO' => '2012-06-28', 'NU_NIS' => '64650922968', 'NU_CPF' => '90726836702', 'CO_INEP' => '35783674', 'CO_MUNICIPIO_RESIDENCIA' => 3536257, 'CO_MUNICIPIO_NASCIMENTO' => 3536257, 'NO_PAI' => 'Eusébio Garcia Queiroga', 'NO_MAE' => 'Allana Garcia Queiroga', 'NU_NIS_RESPONSAVEL' => '36350290259', 'NU_CPF_RESPONSAVEL' => '77714409325', 'TP_FAMILIA_INDIGENA' => 0, 'TP_FAMILIA_QUILOMBOLA' => 1]\n"
     ]
    }
   ],
   "source": [
    "def gen_fake_date():\n",
    "    start_date = datetime.date(2005, 1, 1)\n",
    "    end_date = datetime.date(2018, 2, 1)\n",
    "\n",
    "    time_between_dates = end_date - start_date\n",
    "    days_between_dates = time_between_dates.days\n",
    "    random_number_of_days = random.randrange(days_between_dates)\n",
    "    random_date = start_date + datetime.timedelta(days=random_number_of_days)\n",
    "    return random_date\n",
    "\n",
    "def mock_aluno(n):\n",
    "    for i in range(n):\n",
    "        no_aluno =  requests.get('https://gerador-nomes.wolan.net/nome/aleatorio').text.replace('[\"',\"\").replace('\"]','').replace('\",\"',' ')\n",
    "        sobrenome = ' '+no_aluno.split( )[1] + ' ' + no_aluno.split( )[2]\n",
    "        genero = str(random.randrange(0,4))\n",
    "        etnia = str(random.randrange(0,4))\n",
    "        dt_nascimento = str(gen_fake_date())\n",
    "        nis = str(random.randrange(00000000000,99999999999))\n",
    "        cpf = str(random.randrange(00000000000,99999999999))\n",
    "        inep = str(random.randrange(00000000,99999999))\n",
    "        municipio_residencia = municipios[random.randrange(0,5568)]\n",
    "        municipio_nascimento = str(municipio_residencia+random.randrange(-2,2))\n",
    "        municipio_residencia = str(municipio_residencia)\n",
    "        nome_pai = requests.get('https://gerador-nomes.wolan.net/nome/aleatorio').text.replace('[\"',\"\").replace('\"]','').replace('\",\"',' ').split( )[0]+sobrenome\n",
    "        nome_mae = requests.get('https://gerador-nomes.wolan.net/nome/aleatorio').text.replace('[\"',\"\").replace('\"]','').replace('\",\"',' ').split( )[0]+sobrenome\n",
    "        nis_responsavel = str(random.randrange(00000000000,99999999999))\n",
    "        cpf_responsavel = str(random.randrange(00000000000,99999999999))\n",
    "        indigena = str(random.randrange(0,2))\n",
    "        quilombola = str(random.randrange(0,2))\n",
    "\n",
    "        print(\"['NO_ALUNO' => '\"+no_aluno+\"', 'TP_GENERO' => \"+genero+\", 'TP_ETNIA' => \" +etnia +\", 'DT_NASCIMENTO' => '\"+ dt_nascimento+\"', 'NU_NIS' => '\"+nis+\"', 'NU_CPF' => '\"+cpf+\"', 'CO_INEP' => '\"+inep+\"', 'CO_MUNICIPIO_RESIDENCIA' => \"+municipio_residencia +\", 'CO_MUNICIPIO_NASCIMENTO' => \"+municipio_nascimento+\", 'NO_PAI' => '\"+nome_pai+\"', 'NO_MAE' => '\"+nome_mae+\"', 'NU_NIS_RESPONSAVEL' => '\"+nis_responsavel+\"', 'NU_CPF_RESPONSAVEL' => '\"+cpf_responsavel+\"', 'TP_FAMILIA_INDIGENA' => \"+indigena+\", 'TP_FAMILIA_QUILOMBOLA' => \"+quilombola+\"]\")\n",
    "mock_aluno(20)"
   ]
  }
 ],
 "metadata": {
  "kernelspec": {
   "display_name": "Python 3",
   "language": "python",
   "name": "python3"
  },
  "language_info": {
   "codemirror_mode": {
    "name": "ipython",
    "version": 3
   },
   "file_extension": ".py",
   "mimetype": "text/x-python",
   "name": "python",
   "nbconvert_exporter": "python",
   "pygments_lexer": "ipython3",
   "version": "3.11.0"
  },
  "orig_nbformat": 4
 },
 "nbformat": 4,
 "nbformat_minor": 2
}
