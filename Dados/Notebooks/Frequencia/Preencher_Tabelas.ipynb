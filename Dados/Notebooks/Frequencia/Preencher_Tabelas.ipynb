{
 "cells": [
  {
   "cell_type": "markdown",
   "metadata": {},
   "source": [
    "## Básico"
   ]
  },
  {
   "cell_type": "code",
   "execution_count": 50,
   "metadata": {},
   "outputs": [],
   "source": [
    "import psycopg2\n",
    "import requests\n",
    "import random\n",
    "import pandas as pd\n",
    "from faker import Faker\n",
    "import threading\n",
    "import csv\n",
    "from datetime import date\n",
    "from workalendar.america import Brazil\n",
    "from datetime import datetime, timedelta"
   ]
  },
  {
   "cell_type": "code",
   "execution_count": 48,
   "metadata": {},
   "outputs": [],
   "source": [
    "def conectar_bd():\n",
    "    try:\n",
    "        conexao = psycopg2.connect(\n",
    "            host=\"localhost\",\n",
    "            port=\"5432\",\n",
    "            database=\"sistema_presenca\",\n",
    "            user=\"postgres\",\n",
    "            password=\"admin\"\n",
    "        )\n",
    "        return conexao\n",
    "    except psycopg2.Error as e:\n",
    "        print(\"Erro ao conectar ao banco de dados:\", e)\n",
    "        return None"
   ]
  },
  {
   "cell_type": "markdown",
   "metadata": {},
   "source": [
    "## Instituições (tb_instituicao)"
   ]
  },
  {
   "cell_type": "code",
   "execution_count": null,
   "metadata": {},
   "outputs": [],
   "source": [
    "conexao = conectar_bd()\n",
    "\n",
    "cursor = conexao.cursor()\n",
    "\n",
    "for i in range(1, 11):\n",
    "    nome_instituicao = f\"Instituição {i}\"\n",
    "    cursor.execute(\"INSERT INTO tb_instituicao (co_instituicao, no_instituicao) VALUES (%s, %s)\", (i, nome_instituicao))\n",
    "\n",
    "conexao.commit()\n",
    "\n",
    "cursor.close()\n",
    "conexao.close()"
   ]
  },
  {
   "cell_type": "markdown",
   "metadata": {},
   "source": [
    "## Professores (tb_professor)"
   ]
  },
  {
   "cell_type": "code",
   "execution_count": 44,
   "metadata": {},
   "outputs": [
    {
     "name": "stdout",
     "output_type": "stream",
     "text": [
      "Arquivo CSV gerado com sucesso!\n"
     ]
    }
   ],
   "source": [
    "fake = Faker('pt_BR')\n",
    "\n",
    "with open('professores.csv', mode='w', newline='') as arquivo_csv:\n",
    "    writer = csv.writer(arquivo_csv, delimiter=',', quotechar='\"', quoting=csv.QUOTE_MINIMAL)\n",
    "\n",
    "    writer.writerow(['co_professor', 'no_professor'])\n",
    "\n",
    "    for i in range(25000):\n",
    "        no_professor = fake.name()\n",
    "        no_professor = no_professor.replace('ã', 'a').replace('õ', 'o').replace('ç', 'c').replace('í', 'i').replace('ó', 'o').replace('á', 'a').replace('é','e').replace('ú','u').replace('Dr. ', '').replace('Dra. ', '').replace('Sr. ','').replace('Sra. ','').replace('Srta. ','')\n",
    "        writer.writerow([i, no_professor])\n",
    "\n",
    "print(\"Arquivo CSV gerado com sucesso!\")"
   ]
  },
  {
   "cell_type": "code",
   "execution_count": 45,
   "metadata": {},
   "outputs": [
    {
     "name": "stdout",
     "output_type": "stream",
     "text": [
      "Inserções concluídas com sucesso!\n"
     ]
    }
   ],
   "source": [
    "def inserir_dados(cursor, dados):\n",
    "    inserir_professor = \"\"\"\n",
    "    INSERT INTO tb_professor (co_professor, no_professor)\n",
    "    VALUES (%s, %s)\n",
    "    \"\"\"\n",
    "    cursor.execute(inserir_professor, dados)\n",
    "\n",
    "def processar_lote(cursor, linhas):\n",
    "    for linha in linhas:\n",
    "        co_professor, no_professor = linha\n",
    "        inserir_dados(cursor, (co_professor, no_professor))\n",
    "\n",
    "conexao = conectar_bd()\n",
    "\n",
    "with open('professores.csv', mode='r', newline='') as arquivo_csv:\n",
    "    reader = csv.reader(arquivo_csv, delimiter=',', quotechar='\"')\n",
    "\n",
    "    next(reader)\n",
    "    cursor = conexao.cursor()\n",
    "\n",
    "    num_threads = 4\n",
    "\n",
    "    linhas = list(reader)\n",
    "\n",
    "    tamanho_lote = len(linhas) // num_threads\n",
    "    linhas_em_lotes = [linhas[i:i + tamanho_lote] for i in range(0, len(linhas), tamanho_lote)]\n",
    "\n",
    "    threads = []\n",
    "    for lote in linhas_em_lotes:\n",
    "        t = threading.Thread(target=processar_lote, args=(cursor, lote))\n",
    "        threads.append(t)\n",
    "        t.start()\n",
    "\n",
    "    for t in threads:\n",
    "        t.join()\n",
    "\n",
    "    conexao.commit()\n",
    "\n",
    "    print(\"Inserções concluídas com sucesso!\")\n",
    "\n",
    "cursor.close()\n",
    "conexao.close()"
   ]
  },
  {
   "cell_type": "markdown",
   "metadata": {},
   "source": [
    "## Alunos (tb_aluno)"
   ]
  },
  {
   "cell_type": "code",
   "execution_count": 7,
   "metadata": {},
   "outputs": [
    {
     "name": "stdout",
     "output_type": "stream",
     "text": [
      "Arquivo CSV gerado com sucesso!\n"
     ]
    }
   ],
   "source": [
    "fake = Faker('pt_BR')\n",
    "\n",
    "with open('nomes.csv', mode='w', newline='') as arquivo_csv:\n",
    "    writer = csv.writer(arquivo_csv, delimiter=',', quotechar='\"', quoting=csv.QUOTE_MINIMAL)\n",
    "\n",
    "    writer.writerow(['co_aluno', 'no_aluno', 'dt_nascimento', 'co_instituicao'])\n",
    "\n",
    "    for i in range(500000):\n",
    "        no_aluno = fake.name()\n",
    "        no_aluno = no_aluno.replace('ã', 'a').replace('õ', 'o').replace('ç', 'c').replace('í', 'i').replace('ó', 'o').replace('á', 'a').replace('é','e').replace('ê','e').replace('ú','u').replace('Dr. ', '').replace('Dra. ', '').replace('Sr. ','').replace('Sra. ','').replace('Srta. ','')\n",
    "        dt_nascimento = fake.date_of_birth(minimum_age=0, maximum_age=18)\n",
    "        co_instituicao = random.randint(0, 10)\n",
    "        writer.writerow([i, no_aluno, dt_nascimento, co_instituicao])\n",
    "\n",
    "print(\"Arquivo CSV gerado com sucesso!\")"
   ]
  },
  {
   "cell_type": "code",
   "execution_count": 8,
   "metadata": {},
   "outputs": [
    {
     "name": "stdout",
     "output_type": "stream",
     "text": [
      "Inserções concluídas com sucesso!\n"
     ]
    }
   ],
   "source": [
    "def inserir_dados(cursor, dados):\n",
    "    inserir_aluno = \"\"\"\n",
    "    INSERT INTO tb_aluno (co_aluno, no_aluno, dt_nascimento, co_instituicao)\n",
    "    VALUES (%s, %s, %s, %s)\n",
    "    \"\"\"\n",
    "    cursor.execute(inserir_aluno, dados)\n",
    "\n",
    "def processar_lote(cursor, linhas):\n",
    "    for linha in linhas:\n",
    "        co_aluno, no_aluno, dt_nascimento, co_instituicao = linha\n",
    "        inserir_dados(cursor, (co_aluno, no_aluno, dt_nascimento, co_instituicao))\n",
    "\n",
    "conexao = conectar_bd()\n",
    "\n",
    "with open('nomes.csv', mode='r', newline='') as arquivo_csv:\n",
    "    reader = csv.reader(arquivo_csv, delimiter=',', quotechar='\"')\n",
    "\n",
    "    next(reader)\n",
    "    cursor = conexao.cursor()\n",
    "\n",
    "    num_threads = 4\n",
    "\n",
    "    linhas = list(reader)\n",
    "\n",
    "    tamanho_lote = len(linhas) // num_threads\n",
    "    linhas_em_lotes = [linhas[i:i + tamanho_lote] for i in range(0, len(linhas), tamanho_lote)]\n",
    "\n",
    "    # criando e iniciando threads\n",
    "    threads = []\n",
    "    for lote in linhas_em_lotes:\n",
    "        t = threading.Thread(target=processar_lote, args=(cursor, lote))\n",
    "        threads.append(t)\n",
    "        t.start()\n",
    "\n",
    "    # aguardando a conclusão de todas as threads\n",
    "    for t in threads:\n",
    "        t.join()\n",
    "\n",
    "    conexao.commit()\n",
    "\n",
    "    print(\"Inserções concluídas com sucesso!\")\n",
    "\n",
    "cursor.close()\n",
    "conexao.close()"
   ]
  },
  {
   "cell_type": "markdown",
   "metadata": {},
   "source": [
    "## Turnos (tb_turno)"
   ]
  },
  {
   "cell_type": "code",
   "execution_count": 9,
   "metadata": {},
   "outputs": [],
   "source": [
    "conexao = psycopg2.connect(\n",
    "    host = \"localhost\",\n",
    "    port = \"5432\",\n",
    "    database = \"sistema_presenca\",\n",
    "    user = \"postgres\",\n",
    "    password = \"admin\"\n",
    ")\n",
    "\n",
    "cursor = conexao.cursor()\n",
    "\n",
    "cursor.execute(\"INSERT INTO tb_turno (co_turno, no_turno) VALUES (%s, %s)\", (1, 'Matutino'))\n",
    "cursor.execute(\"INSERT INTO tb_turno (co_turno, no_turno) VALUES (%s, %s)\", (2, 'Vespertino'))\n",
    "cursor.execute(\"INSERT INTO tb_turno (co_turno, no_turno) VALUES (%s, %s)\", (3, 'Noturno'))\n",
    "cursor.execute(\"INSERT INTO tb_turno (co_turno, no_turno) VALUES (%s, %s)\", (4, 'Integral'))\n",
    "\n",
    "conexao.commit()\n",
    "\n",
    "cursor.close()\n",
    "conexao.close()"
   ]
  },
  {
   "cell_type": "markdown",
   "metadata": {},
   "source": [
    "## Disciplinas (tb_disciplina)"
   ]
  },
  {
   "cell_type": "code",
   "execution_count": 11,
   "metadata": {},
   "outputs": [],
   "source": [
    "conexao = conectar_bd()\n",
    "\n",
    "cursor = conexao.cursor()\n",
    "\n",
    "cursor.execute(\"INSERT INTO tb_disciplina (co_disciplina, no_disciplina) VALUES (%s, %s)\", (1, 'Língua Portuguesa'))\n",
    "cursor.execute(\"INSERT INTO tb_disciplina (co_disciplina, no_disciplina) VALUES (%s, %s)\", (2, 'Arte'))\n",
    "cursor.execute(\"INSERT INTO tb_disciplina (co_disciplina, no_disciplina) VALUES (%s, %s)\", (3, 'Educação Física'))\n",
    "cursor.execute(\"INSERT INTO tb_disciplina (co_disciplina, no_disciplina) VALUES (%s, %s)\", (4, 'Língua Inglesa'))\n",
    "cursor.execute(\"INSERT INTO tb_disciplina (co_disciplina, no_disciplina) VALUES (%s, %s)\", (5, 'Matemática'))\n",
    "cursor.execute(\"INSERT INTO tb_disciplina (co_disciplina, no_disciplina) VALUES (%s, %s)\", (6, 'Ciências'))\n",
    "cursor.execute(\"INSERT INTO tb_disciplina (co_disciplina, no_disciplina) VALUES (%s, %s)\", (7, 'Geografia'))\n",
    "cursor.execute(\"INSERT INTO tb_disciplina (co_disciplina, no_disciplina) VALUES (%s, %s)\", (8, 'História'))\n",
    "cursor.execute(\"INSERT INTO tb_disciplina (co_disciplina, no_disciplina) VALUES (%s, %s)\", (9, 'Ensino Religioso'))\n",
    "cursor.execute(\"INSERT INTO tb_disciplina (co_disciplina, no_disciplina) VALUES (%s, %s)\", (10, 'Ciências da Natureza e suas Tecnologias'))\n",
    "cursor.execute(\"INSERT INTO tb_disciplina (co_disciplina, no_disciplina) VALUES (%s, %s)\", (11, 'Ciências Humanas e Sociais Aplicadas'))\n",
    "\n",
    "\n",
    "conexao.commit()\n",
    "\n",
    "cursor.close()\n",
    "conexao.close()"
   ]
  },
  {
   "cell_type": "markdown",
   "metadata": {},
   "source": [
    "## Feriados (tb_feriado)"
   ]
  },
  {
   "cell_type": "code",
   "execution_count": 36,
   "metadata": {},
   "outputs": [
    {
     "name": "stdout",
     "output_type": "stream",
     "text": [
      "Inserção de feriados concluída com sucesso!\n"
     ]
    }
   ],
   "source": [
    "conexao = conectar_bd()\n",
    "\n",
    "cursor = conexao.cursor()\n",
    "\n",
    "calendario = Brazil()\n",
    "\n",
    "ano_inicial = date.today().year - 10\n",
    "ano_final = ano_inicial + 11  # criando um intervalo de 10 anos\n",
    "\n",
    "contador = 0  # variável de contagem para substituir o ano\n",
    "\n",
    "for ano in range(ano_inicial, ano_final):\n",
    "    feriados = calendario.holidays(ano)\n",
    "\n",
    "    for feriado in feriados:\n",
    "        no_feriado = feriado[1]\n",
    "        dt_feriado = feriado[0]\n",
    "        # tp_ambito_feriado, co_municipio, co_uf, tp_remarcado, co_feriado_original, ds_decreto_mudanca são valores nulos para feriados nacionais\n",
    "        cursor.execute(\"INSERT INTO tb_feriado (co_feriado, no_feriado, dt_feriado, tp_ambito_feriado, co_municipio, co_uf, tp_remarcado, co_feriado_original, ds_decreto_mudanca) VALUES (%s, %s, %s, NULL, NULL, NULL, NULL, NULL, NULL)\",\n",
    "                       (contador, no_feriado, dt_feriado))\n",
    "        contador += 1 \n",
    "\n",
    "conexao.commit()\n",
    "\n",
    "print(\"Inserção de feriados concluída com sucesso!\")\n",
    "\n",
    "cursor.close()\n",
    "conexao.close()"
   ]
  },
  {
   "cell_type": "markdown",
   "metadata": {},
   "source": [
    "## Série/Ano (tb_serie_ano)"
   ]
  },
  {
   "cell_type": "code",
   "execution_count": 37,
   "metadata": {},
   "outputs": [
    {
     "name": "stdout",
     "output_type": "stream",
     "text": [
      "Inserção das séries/anos concluída com sucesso!\n"
     ]
    }
   ],
   "source": [
    "conexao = conectar_bd()\n",
    "\n",
    "cursor = conexao.cursor()\n",
    "\n",
    "series = [\n",
    "    (1, 'Berçário'), \n",
    "    (2, 'Creche'), \n",
    "    (3, 'Pré-escola'), \n",
    "    (4, '1º ano'), \n",
    "    (5, '2º ano'), \n",
    "    (6, '3º ano'), \n",
    "    (7, '4º ano'), \n",
    "    (8, '5º ano'), \n",
    "    (9, '6º ano'), \n",
    "    (10, '7º ano'), \n",
    "    (11, '8º ano'), \n",
    "    (12, '9º ano'), \n",
    "    (13, '1ª série'), \n",
    "    (14, '2ª série'), \n",
    "    (15, '3ª série'), \n",
    "    (16, '1º ano (Técnico)'), \n",
    "    (17, '2º ano (Técnico)'), \n",
    "    (18, '3º ano (Técnico)'), \n",
    "    (19, '4º ano (Técnico)')\n",
    "]\n",
    "\n",
    "for serie in series:\n",
    "    cursor.execute(\"INSERT INTO tb_serie_ano (co_serie, no_serie) VALUES (%s, %s)\", serie)\n",
    "\n",
    "conexao.commit()\n",
    "\n",
    "print(\"Inserção das séries/anos concluída com sucesso!\")\n",
    "\n",
    "cursor.close()\n",
    "conexao.close()"
   ]
  },
  {
   "cell_type": "markdown",
   "metadata": {},
   "source": [
    "## Turmas (tb_turma)"
   ]
  },
  {
   "cell_type": "code",
   "execution_count": 58,
   "metadata": {},
   "outputs": [
    {
     "name": "stdout",
     "output_type": "stream",
     "text": [
      "Dados inseridos com sucesso!\n"
     ]
    }
   ],
   "source": [
    "def inserir_turmas(conexao):\n",
    "    cursor = conexao.cursor()\n",
    "\n",
    "    for co_turma in range(1, 100000):\n",
    "        no_turma = f\"Turma {co_turma}\"\n",
    "        co_serie = random.randint(1, 15)  # supondo que existam 15 séries possíveis\n",
    "        co_turno = random.randint(1, 4)\n",
    "        co_professor = random.randint(0, 24999)  # supondo que existam 25000 professores\n",
    "        co_instituicao = random.randint(1, 5)  # supondo que existam 5 instituições\n",
    "        nu_ano_letivo = random.randint(2013, 2023)  # ano letivo entre 2013 e 2023\n",
    "        co_disciplina = random.randint(1, 11)  # supondo que existam 11 disciplinas possíveis\n",
    "        ds_local = None\n",
    "        st_ativa = nu_ano_letivo == 2023  # única classe ativa sendo a de 2023\n",
    "\n",
    "        data_inicio, data_fim = gerar_datas_letivo(nu_ano_letivo)\n",
    "\n",
    "        cursor.execute(\n",
    "            \"INSERT INTO tb_turma (co_turma, no_turma, co_serie, co_turno, co_professor, co_instituicao, dt_inicio_turma, dt_termino_turma, ds_local, nu_ano_letivo, co_disciplina, st_ativa) \"\n",
    "            \"VALUES (%s, %s, %s, %s, %s, %s, %s, %s, %s, %s, %s, %s)\",\n",
    "            (co_turma, no_turma, co_serie, co_turno, co_professor, co_instituicao, data_inicio, data_fim, ds_local, nu_ano_letivo, co_disciplina, st_ativa)\n",
    "        )\n",
    "    conexao.commit()\n",
    "\n",
    "def gerar_horario(co_turno):\n",
    "    # Gere horários condizentes com o turno\n",
    "    if co_turno == 1:  # Manhã\n",
    "        ho_inicio = f\"{random.randint(7, 8)}:00\"\n",
    "        ho_termino = f\"{random.randint(9, 10)}:00\"\n",
    "    elif co_turno == 2:  # Tarde\n",
    "        ho_inicio = f\"{random.randint(14, 15)}:00\"\n",
    "        ho_termino = f\"{random.randint(16, 17)}:00\"\n",
    "    elif co_turno == 3:  # Noite\n",
    "        ho_inicio = f\"{random.randint(18, 19)}:00\"\n",
    "        ho_termino = f\"{random.randint(20, 21)}:00\"\n",
    "    else:  # Qualquer horário\n",
    "        ho_inicio = f\"{random.randint(7, 21)}:00\"\n",
    "        ho_termino = f\"{random.randint(8, 22)}:00\"\n",
    "\n",
    "    return ho_inicio, ho_termino\n",
    "\n",
    "def inserir_horarios(conexao):\n",
    "    cursor = conexao.cursor()\n",
    "\n",
    "    for co_turma in range(1, 11):\n",
    "        co_turno = random.randint(1, 4)\n",
    "        ho_inicio, ho_termino = gerar_horario(co_turno)\n",
    "\n",
    "        dias_semana = [1, 2, 3, 4, 5]  # 1 é segunda-feira, 2 terça-feira, etc.\n",
    "\n",
    "        for dia_semana in dias_semana:\n",
    "            cursor.execute(\n",
    "                \"INSERT INTO tb_horario (co_turma, nu_dia_semana, ho_inicio, ho_termino) \"\n",
    "                \"VALUES (%s, %s, %s, %s)\",\n",
    "                (co_turma, dia_semana, ho_inicio, ho_termino)\n",
    "            )\n",
    "\n",
    "    conexao.commit()\n",
    "\n",
    "def gerar_datas_letivo(nu_ano_letivo):\n",
    "    data_inicio = datetime(nu_ano_letivo, 1, 1)  # início em 1 de janeiro do ano letivo\n",
    "    data_fim = datetime(nu_ano_letivo, 12, 31)  # término em 31 de dezembro do ano letivo\n",
    "    return data_inicio, data_fim\n",
    "\n",
    "def inserir_alunos_turmas(conexao):\n",
    "    cursor = conexao.cursor()\n",
    "\n",
    "    for co_aluno in range(1, 500000):\n",
    "        co_turma = random.randint(1, 100000)\n",
    "\n",
    "        # 95% de probabilidade do aluno estar ativo na turma\n",
    "        probabilidade_ativo = [True, False]\n",
    "        weights = [0.95, 0.05]\n",
    "        st_ativo = random.choices(probabilidade_ativo, weights=weights)[0]\n",
    "\n",
    "        cursor.execute(\n",
    "            \"INSERT INTO tb_aluno_turma (co_aluno, co_turma, st_ativo) \"\n",
    "            \"VALUES (%s, %s, %s)\",\n",
    "            (co_aluno, co_turma, st_ativo)\n",
    "        )\n",
    "\n",
    "    conexao.commit()\n",
    "\n",
    "def main():\n",
    "    conexao = conectar_bd()\n",
    "    if conexao:\n",
    "        inserir_turmas(conexao)\n",
    "        inserir_horarios(conexao)\n",
    "        inserir_alunos_turmas(conexao)\n",
    "        conexao.close()\n",
    "        print(\"Dados inseridos com sucesso!\")\n",
    "\n",
    "if __name__ == \"__main__\":\n",
    "    main()\n"
   ]
  },
  {
   "cell_type": "markdown",
   "metadata": {},
   "source": [
    "## Presença"
   ]
  },
  {
   "cell_type": "code",
   "execution_count": null,
   "metadata": {},
   "outputs": [],
   "source": [
    "conexao = conectar_bd()\n",
    "\n",
    "cursor = conexao.cursor()\n",
    "\n",
    "cursor.execute(\"INSERT INTO tb_presenca (co_status_presenca, no_status_presenca, sg_status_presenca) VALUES (%s, %s, %s)\", (0, 'Faltou F', 'F'))\n",
    "cursor.execute(\"INSERT INTO tb_presenca (co_status_presenca, no_status_presenca, sg_status_presenca) VALUES (%s, %s, %s)\", (1, 'Presente P', 'P'))\n",
    "cursor.execute(\"INSERT INTO tb_presenca (co_status_presenca, no_status_presenca, sg_status_presenca) VALUES (%s, %s, %s)\", (2, 'Licença médica L', 'L'))\n",
    "cursor.execute(\"INSERT INTO tb_presenca (co_status_presenca, no_status_presenca, sg_status_presenca) VALUES (%s, %s, %s)\", (3, 'Sem matrícula S', 'S'))\n",
    "cursor.execute(\"INSERT INTO tb_presenca (co_status_presenca, no_status_presenca, sg_status_presenca) VALUES (%s, %s, %s)\", (4, 'Aula cancelada C', 'C'))\n",
    "cursor.execute(\"INSERT INTO tb_presenca (co_status_presenca, no_status_presenca, sg_status_presenca) VALUES (%s, %s, %s)\", (5, 'Feriado', 'E'))\n",
    "\n",
    "\n",
    "conexao.commit()\n",
    "\n",
    "cursor.close()\n",
    "conexao.close()"
   ]
  },
  {
   "cell_type": "code",
   "execution_count": 72,
   "metadata": {},
   "outputs": [
    {
     "ename": "KeyboardInterrupt",
     "evalue": "",
     "output_type": "error",
     "traceback": [
      "\u001b[1;31m---------------------------------------------------------------------------\u001b[0m",
      "\u001b[1;31mKeyboardInterrupt\u001b[0m                         Traceback (most recent call last)",
      "\u001b[1;32md:\\Documentos\\Code\\UDESC\\Trabalho-de-Conclusao-de-Curso-TCC000x\\Dados\\Notebooks\\Frequencia\\Preencher_Tabelas.ipynb Célula 24\u001b[0m line \u001b[0;36m3\n\u001b[0;32m     <a href='vscode-notebook-cell:/d%3A/Documentos/Code/UDESC/Trabalho-de-Conclusao-de-Curso-TCC000x/Dados/Notebooks/Frequencia/Preencher_Tabelas.ipynb#X34sZmlsZQ%3D%3D?line=31'>32</a>\u001b[0m     status_presenca \u001b[39m=\u001b[39m \u001b[39m1\u001b[39m\n\u001b[0;32m     <a href='vscode-notebook-cell:/d%3A/Documentos/Code/UDESC/Trabalho-de-Conclusao-de-Curso-TCC000x/Dados/Notebooks/Frequencia/Preencher_Tabelas.ipynb#X34sZmlsZQ%3D%3D?line=32'>33</a>\u001b[0m     \u001b[39m# Inserir registro de frequência\u001b[39;00m\n\u001b[1;32m---> <a href='vscode-notebook-cell:/d%3A/Documentos/Code/UDESC/Trabalho-de-Conclusao-de-Curso-TCC000x/Dados/Notebooks/Frequencia/Preencher_Tabelas.ipynb#X34sZmlsZQ%3D%3D?line=33'>34</a>\u001b[0m     cursor\u001b[39m.\u001b[39;49mexecute(\n\u001b[0;32m     <a href='vscode-notebook-cell:/d%3A/Documentos/Code/UDESC/Trabalho-de-Conclusao-de-Curso-TCC000x/Dados/Notebooks/Frequencia/Preencher_Tabelas.ipynb#X34sZmlsZQ%3D%3D?line=34'>35</a>\u001b[0m         \u001b[39m\"\u001b[39;49m\u001b[39mINSERT INTO tb_frequencia_aluno (co_turma, co_aluno, dt_frequencia, co_status_presenca, co_sub_justificativa) VALUES (\u001b[39;49m\u001b[39m%s\u001b[39;49;00m\u001b[39m, \u001b[39;49m\u001b[39m%s\u001b[39;49;00m\u001b[39m, \u001b[39;49m\u001b[39m%s\u001b[39;49;00m\u001b[39m, \u001b[39;49m\u001b[39m%s\u001b[39;49;00m\u001b[39m, \u001b[39;49m\u001b[39m%s\u001b[39;49;00m\u001b[39m)\u001b[39;49m\u001b[39m\"\u001b[39;49m,\n\u001b[0;32m     <a href='vscode-notebook-cell:/d%3A/Documentos/Code/UDESC/Trabalho-de-Conclusao-de-Curso-TCC000x/Dados/Notebooks/Frequencia/Preencher_Tabelas.ipynb#X34sZmlsZQ%3D%3D?line=35'>36</a>\u001b[0m         (turma_id, aluno_id, data_atual, status_presenca, co_sub_justificativa)\n\u001b[0;32m     <a href='vscode-notebook-cell:/d%3A/Documentos/Code/UDESC/Trabalho-de-Conclusao-de-Curso-TCC000x/Dados/Notebooks/Frequencia/Preencher_Tabelas.ipynb#X34sZmlsZQ%3D%3D?line=36'>37</a>\u001b[0m     )\n\u001b[0;32m     <a href='vscode-notebook-cell:/d%3A/Documentos/Code/UDESC/Trabalho-de-Conclusao-de-Curso-TCC000x/Dados/Notebooks/Frequencia/Preencher_Tabelas.ipynb#X34sZmlsZQ%3D%3D?line=38'>39</a>\u001b[0m \u001b[39melse\u001b[39;00m:\n\u001b[0;32m     <a href='vscode-notebook-cell:/d%3A/Documentos/Code/UDESC/Trabalho-de-Conclusao-de-Curso-TCC000x/Dados/Notebooks/Frequencia/Preencher_Tabelas.ipynb#X34sZmlsZQ%3D%3D?line=39'>40</a>\u001b[0m     co_sub_justificativa \u001b[39m=\u001b[39m random\u001b[39m.\u001b[39mrandint(\u001b[39m1\u001b[39m, \u001b[39m82\u001b[39m)\n",
      "File \u001b[1;32mc:\\Python311\\Lib\\encodings\\utf_8.py:15\u001b[0m, in \u001b[0;36mdecode\u001b[1;34m(input, errors)\u001b[0m\n\u001b[0;32m     11\u001b[0m \u001b[39m### Codec APIs\u001b[39;00m\n\u001b[0;32m     13\u001b[0m encode \u001b[39m=\u001b[39m codecs\u001b[39m.\u001b[39mutf_8_encode\n\u001b[1;32m---> 15\u001b[0m \u001b[39mdef\u001b[39;00m \u001b[39mdecode\u001b[39m(\u001b[39minput\u001b[39m, errors\u001b[39m=\u001b[39m\u001b[39m'\u001b[39m\u001b[39mstrict\u001b[39m\u001b[39m'\u001b[39m):\n\u001b[0;32m     16\u001b[0m     \u001b[39mreturn\u001b[39;00m codecs\u001b[39m.\u001b[39mutf_8_decode(\u001b[39minput\u001b[39m, errors, \u001b[39mTrue\u001b[39;00m)\n\u001b[0;32m     18\u001b[0m \u001b[39mclass\u001b[39;00m \u001b[39mIncrementalEncoder\u001b[39;00m(codecs\u001b[39m.\u001b[39mIncrementalEncoder):\n",
      "\u001b[1;31mKeyboardInterrupt\u001b[0m: "
     ]
    },
    {
     "ename": "",
     "evalue": "",
     "output_type": "error",
     "traceback": [
      "\u001b[1;31mO Kernel falhou ao executar o código na célula atual ou em uma célula anterior. Examine o código nas células para identificar uma possível causa da falha. Clique <a href=\"https://aka.ms/vscodeJupyterKernelCrash\">aqui</a> para obter mais informações. Consulte o <a href='command:jupyter.viewOutput'>log</a> do Jupyter para obter mais detalhes."
     ]
    }
   ],
   "source": [
    "conexao = conectar_bd()\n",
    "\n",
    "cursor = conexao.cursor()\n",
    "\n",
    "fake = Faker()\n",
    "\n",
    "# fonte pra esse dados: vozes da minha cabeça\n",
    "num_alunos = 500000\n",
    "num_turmas = 1000 \n",
    "\n",
    "data_inicio = date(2013, 1, 1)\n",
    "data_fim = date(2023, 12, 31)\n",
    "\n",
    "delta = timedelta(days=1)\n",
    "data_atual = data_inicio\n",
    "\n",
    "while data_atual <= data_fim:\n",
    "    if data_atual.weekday() < 5:\n",
    "        for turma_id in range(1, num_turmas + 1):\n",
    "            for aluno_id in range(0, num_alunos):\n",
    "                presente = random.choices([0, 1], weights=[0.2, 0.8])[0]\n",
    "                \n",
    "                if presente:\n",
    "                    co_sub_justificativa = None\n",
    "                    status_presenca = 1\n",
    "                    cursor.execute(\n",
    "                        \"INSERT INTO tb_frequencia_aluno (co_turma, co_aluno, dt_frequencia, co_status_presenca, co_sub_justificativa) VALUES (%s, %s, %s, %s, %s)\",\n",
    "                        (turma_id, aluno_id, data_atual, status_presenca, co_sub_justificativa)\n",
    "                    )\n",
    "                \n",
    "                else:\n",
    "                    co_sub_justificativa = random.randint(1, 82)\n",
    "                    status_presenca = 0\n",
    "                    cursor.execute(\n",
    "                        \"INSERT INTO tb_frequencia_aluno (co_turma, co_aluno, dt_frequencia, co_status_presenca, co_sub_justificativa) VALUES (%s, %s, %s, %s, %s)\",\n",
    "                        (turma_id, aluno_id, data_atual, status_presenca, co_sub_justificativa)\n",
    "                    )\n",
    "    \n",
    "    data_atual += delta\n",
    "\n",
    "conexao.commit()\n",
    "\n",
    "cursor.close()\n",
    "conexao.close()\n",
    "\n",
    "print(\"Inserções concluídas com sucesso!\")\n"
   ]
  }
 ],
 "metadata": {
  "kernelspec": {
   "display_name": "Python 3",
   "language": "python",
   "name": "python3"
  },
  "language_info": {
   "codemirror_mode": {
    "name": "ipython",
    "version": 3
   },
   "file_extension": ".py",
   "mimetype": "text/x-python",
   "name": "python",
   "nbconvert_exporter": "python",
   "pygments_lexer": "ipython3",
   "version": "3.11.0"
  }
 },
 "nbformat": 4,
 "nbformat_minor": 2
}
